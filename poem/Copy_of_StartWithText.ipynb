{
  "nbformat": 4,
  "nbformat_minor": 0,
  "metadata": {
    "colab": {
      "name": "Copy of StartWithText.ipynb",
      "provenance": [],
      "collapsed_sections": [],
      "include_colab_link": true
    },
    "kernelspec": {
      "name": "python3",
      "display_name": "Python 3"
    }
  },
  "cells": [
    {
      "cell_type": "markdown",
      "metadata": {
        "id": "view-in-github",
        "colab_type": "text"
      },
      "source": [
        "<a href=\"https://colab.research.google.com/github/Simsalab1m/creativecode/blob/master/Copy_of_StartWithText.ipynb\" target=\"_parent\"><img src=\"https://colab.research.google.com/assets/colab-badge.svg\" alt=\"Open In Colab\"/></a>"
      ]
    },
    {
      "cell_type": "markdown",
      "metadata": {
        "id": "-5xRYzJiTbOE",
        "colab_type": "text"
      },
      "source": [
        "\n",
        "# Let's Make Poetry\n",
        "This is a Python notebook that you, a student in my Creative Coding class, may find a useful starting point for your poetry project. This notebook allows you to create cells with text, like the one I'm typing in now, and cells with code like the ones below.\n",
        "\n",
        "The next cell contains a code snippet that will allow you to upload any text file, the contents of which will be stored in a string variable called `text`.\n",
        "\n",
        "To try it out, save a copy of this notebook to your Google Drive and run the next cell. \n"
      ]
    },
    {
      "cell_type": "code",
      "metadata": {
        "id": "zyYnFafck8y7",
        "colab_type": "code",
        "outputId": "6c60a833-74ad-49f5-bcea-a7dbbf822f54",
        "colab": {
          "resources": {
            "http://localhost:8080/nbextensions/google.colab/files.js": {
              "data": "Ly8gQ29weXJpZ2h0IDIwMTcgR29vZ2xlIExMQwovLwovLyBMaWNlbnNlZCB1bmRlciB0aGUgQXBhY2hlIExpY2Vuc2UsIFZlcnNpb24gMi4wICh0aGUgIkxpY2Vuc2UiKTsKLy8geW91IG1heSBub3QgdXNlIHRoaXMgZmlsZSBleGNlcHQgaW4gY29tcGxpYW5jZSB3aXRoIHRoZSBMaWNlbnNlLgovLyBZb3UgbWF5IG9idGFpbiBhIGNvcHkgb2YgdGhlIExpY2Vuc2UgYXQKLy8KLy8gICAgICBodHRwOi8vd3d3LmFwYWNoZS5vcmcvbGljZW5zZXMvTElDRU5TRS0yLjAKLy8KLy8gVW5sZXNzIHJlcXVpcmVkIGJ5IGFwcGxpY2FibGUgbGF3IG9yIGFncmVlZCB0byBpbiB3cml0aW5nLCBzb2Z0d2FyZQovLyBkaXN0cmlidXRlZCB1bmRlciB0aGUgTGljZW5zZSBpcyBkaXN0cmlidXRlZCBvbiBhbiAiQVMgSVMiIEJBU0lTLAovLyBXSVRIT1VUIFdBUlJBTlRJRVMgT1IgQ09ORElUSU9OUyBPRiBBTlkgS0lORCwgZWl0aGVyIGV4cHJlc3Mgb3IgaW1wbGllZC4KLy8gU2VlIHRoZSBMaWNlbnNlIGZvciB0aGUgc3BlY2lmaWMgbGFuZ3VhZ2UgZ292ZXJuaW5nIHBlcm1pc3Npb25zIGFuZAovLyBsaW1pdGF0aW9ucyB1bmRlciB0aGUgTGljZW5zZS4KCi8qKgogKiBAZmlsZW92ZXJ2aWV3IEhlbHBlcnMgZm9yIGdvb2dsZS5jb2xhYiBQeXRob24gbW9kdWxlLgogKi8KKGZ1bmN0aW9uKHNjb3BlKSB7CmZ1bmN0aW9uIHNwYW4odGV4dCwgc3R5bGVBdHRyaWJ1dGVzID0ge30pIHsKICBjb25zdCBlbGVtZW50ID0gZG9jdW1lbnQuY3JlYXRlRWxlbWVudCgnc3BhbicpOwogIGVsZW1lbnQudGV4dENvbnRlbnQgPSB0ZXh0OwogIGZvciAoY29uc3Qga2V5IG9mIE9iamVjdC5rZXlzKHN0eWxlQXR0cmlidXRlcykpIHsKICAgIGVsZW1lbnQuc3R5bGVba2V5XSA9IHN0eWxlQXR0cmlidXRlc1trZXldOwogIH0KICByZXR1cm4gZWxlbWVudDsKfQoKLy8gTWF4IG51bWJlciBvZiBieXRlcyB3aGljaCB3aWxsIGJlIHVwbG9hZGVkIGF0IGEgdGltZS4KY29uc3QgTUFYX1BBWUxPQURfU0laRSA9IDEwMCAqIDEwMjQ7Ci8vIE1heCBhbW91bnQgb2YgdGltZSB0byBibG9jayB3YWl0aW5nIGZvciB0aGUgdXNlci4KY29uc3QgRklMRV9DSEFOR0VfVElNRU9VVF9NUyA9IDMwICogMTAwMDsKCmZ1bmN0aW9uIF91cGxvYWRGaWxlcyhpbnB1dElkLCBvdXRwdXRJZCkgewogIGNvbnN0IHN0ZXBzID0gdXBsb2FkRmlsZXNTdGVwKGlucHV0SWQsIG91dHB1dElkKTsKICBjb25zdCBvdXRwdXRFbGVtZW50ID0gZG9jdW1lbnQuZ2V0RWxlbWVudEJ5SWQob3V0cHV0SWQpOwogIC8vIENhY2hlIHN0ZXBzIG9uIHRoZSBvdXRwdXRFbGVtZW50IHRvIG1ha2UgaXQgYXZhaWxhYmxlIGZvciB0aGUgbmV4dCBjYWxsCiAgLy8gdG8gdXBsb2FkRmlsZXNDb250aW51ZSBmcm9tIFB5dGhvbi4KICBvdXRwdXRFbGVtZW50LnN0ZXBzID0gc3RlcHM7CgogIHJldHVybiBfdXBsb2FkRmlsZXNDb250aW51ZShvdXRwdXRJZCk7Cn0KCi8vIFRoaXMgaXMgcm91Z2hseSBhbiBhc3luYyBnZW5lcmF0b3IgKG5vdCBzdXBwb3J0ZWQgaW4gdGhlIGJyb3dzZXIgeWV0KSwKLy8gd2hlcmUgdGhlcmUgYXJlIG11bHRpcGxlIGFzeW5jaHJvbm91cyBzdGVwcyBhbmQgdGhlIFB5dGhvbiBzaWRlIGlzIGdvaW5nCi8vIHRvIHBvbGwgZm9yIGNvbXBsZXRpb24gb2YgZWFjaCBzdGVwLgovLyBUaGlzIHVzZXMgYSBQcm9taXNlIHRvIGJsb2NrIHRoZSBweXRob24gc2lkZSBvbiBjb21wbGV0aW9uIG9mIGVhY2ggc3RlcCwKLy8gdGhlbiBwYXNzZXMgdGhlIHJlc3VsdCBvZiB0aGUgcHJldmlvdXMgc3RlcCBhcyB0aGUgaW5wdXQgdG8gdGhlIG5leHQgc3RlcC4KZnVuY3Rpb24gX3VwbG9hZEZpbGVzQ29udGludWUob3V0cHV0SWQpIHsKICBjb25zdCBvdXRwdXRFbGVtZW50ID0gZG9jdW1lbnQuZ2V0RWxlbWVudEJ5SWQob3V0cHV0SWQpOwogIGNvbnN0IHN0ZXBzID0gb3V0cHV0RWxlbWVudC5zdGVwczsKCiAgY29uc3QgbmV4dCA9IHN0ZXBzLm5leHQob3V0cHV0RWxlbWVudC5sYXN0UHJvbWlzZVZhbHVlKTsKICByZXR1cm4gUHJvbWlzZS5yZXNvbHZlKG5leHQudmFsdWUucHJvbWlzZSkudGhlbigodmFsdWUpID0+IHsKICAgIC8vIENhY2hlIHRoZSBsYXN0IHByb21pc2UgdmFsdWUgdG8gbWFrZSBpdCBhdmFpbGFibGUgdG8gdGhlIG5leHQKICAgIC8vIHN0ZXAgb2YgdGhlIGdlbmVyYXRvci4KICAgIG91dHB1dEVsZW1lbnQubGFzdFByb21pc2VWYWx1ZSA9IHZhbHVlOwogICAgcmV0dXJuIG5leHQudmFsdWUucmVzcG9uc2U7CiAgfSk7Cn0KCi8qKgogKiBHZW5lcmF0b3IgZnVuY3Rpb24gd2hpY2ggaXMgY2FsbGVkIGJldHdlZW4gZWFjaCBhc3luYyBzdGVwIG9mIHRoZSB1cGxvYWQKICogcHJvY2Vzcy4KICogQHBhcmFtIHtzdHJpbmd9IGlucHV0SWQgRWxlbWVudCBJRCBvZiB0aGUgaW5wdXQgZmlsZSBwaWNrZXIgZWxlbWVudC4KICogQHBhcmFtIHtzdHJpbmd9IG91dHB1dElkIEVsZW1lbnQgSUQgb2YgdGhlIG91dHB1dCBkaXNwbGF5LgogKiBAcmV0dXJuIHshSXRlcmFibGU8IU9iamVjdD59IEl0ZXJhYmxlIG9mIG5leHQgc3RlcHMuCiAqLwpmdW5jdGlvbiogdXBsb2FkRmlsZXNTdGVwKGlucHV0SWQsIG91dHB1dElkKSB7CiAgY29uc3QgaW5wdXRFbGVtZW50ID0gZG9jdW1lbnQuZ2V0RWxlbWVudEJ5SWQoaW5wdXRJZCk7CiAgaW5wdXRFbGVtZW50LmRpc2FibGVkID0gZmFsc2U7CgogIGNvbnN0IG91dHB1dEVsZW1lbnQgPSBkb2N1bWVudC5nZXRFbGVtZW50QnlJZChvdXRwdXRJZCk7CiAgb3V0cHV0RWxlbWVudC5pbm5lckhUTUwgPSAnJzsKCiAgY29uc3QgcGlja2VkUHJvbWlzZSA9IG5ldyBQcm9taXNlKChyZXNvbHZlKSA9PiB7CiAgICBpbnB1dEVsZW1lbnQuYWRkRXZlbnRMaXN0ZW5lcignY2hhbmdlJywgKGUpID0+IHsKICAgICAgcmVzb2x2ZShlLnRhcmdldC5maWxlcyk7CiAgICB9KTsKICB9KTsKCiAgY29uc3QgY2FuY2VsID0gZG9jdW1lbnQuY3JlYXRlRWxlbWVudCgnYnV0dG9uJyk7CiAgaW5wdXRFbGVtZW50LnBhcmVudEVsZW1lbnQuYXBwZW5kQ2hpbGQoY2FuY2VsKTsKICBjYW5jZWwudGV4dENvbnRlbnQgPSAnQ2FuY2VsIHVwbG9hZCc7CiAgY29uc3QgY2FuY2VsUHJvbWlzZSA9IG5ldyBQcm9taXNlKChyZXNvbHZlKSA9PiB7CiAgICBjYW5jZWwub25jbGljayA9ICgpID0+IHsKICAgICAgcmVzb2x2ZShudWxsKTsKICAgIH07CiAgfSk7CgogIC8vIENhbmNlbCB1cGxvYWQgaWYgdXNlciBoYXNuJ3QgcGlja2VkIGFueXRoaW5nIGluIHRpbWVvdXQuCiAgY29uc3QgdGltZW91dFByb21pc2UgPSBuZXcgUHJvbWlzZSgocmVzb2x2ZSkgPT4gewogICAgc2V0VGltZW91dCgoKSA9PiB7CiAgICAgIHJlc29sdmUobnVsbCk7CiAgICB9LCBGSUxFX0NIQU5HRV9USU1FT1VUX01TKTsKICB9KTsKCiAgLy8gV2FpdCBmb3IgdGhlIHVzZXIgdG8gcGljayB0aGUgZmlsZXMuCiAgY29uc3QgZmlsZXMgPSB5aWVsZCB7CiAgICBwcm9taXNlOiBQcm9taXNlLnJhY2UoW3BpY2tlZFByb21pc2UsIHRpbWVvdXRQcm9taXNlLCBjYW5jZWxQcm9taXNlXSksCiAgICByZXNwb25zZTogewogICAgICBhY3Rpb246ICdzdGFydGluZycsCiAgICB9CiAgfTsKCiAgaWYgKCFmaWxlcykgewogICAgcmV0dXJuIHsKICAgICAgcmVzcG9uc2U6IHsKICAgICAgICBhY3Rpb246ICdjb21wbGV0ZScsCiAgICAgIH0KICAgIH07CiAgfQoKICBjYW5jZWwucmVtb3ZlKCk7CgogIC8vIERpc2FibGUgdGhlIGlucHV0IGVsZW1lbnQgc2luY2UgZnVydGhlciBwaWNrcyBhcmUgbm90IGFsbG93ZWQuCiAgaW5wdXRFbGVtZW50LmRpc2FibGVkID0gdHJ1ZTsKCiAgZm9yIChjb25zdCBmaWxlIG9mIGZpbGVzKSB7CiAgICBjb25zdCBsaSA9IGRvY3VtZW50LmNyZWF0ZUVsZW1lbnQoJ2xpJyk7CiAgICBsaS5hcHBlbmQoc3BhbihmaWxlLm5hbWUsIHtmb250V2VpZ2h0OiAnYm9sZCd9KSk7CiAgICBsaS5hcHBlbmQoc3BhbigKICAgICAgICBgKCR7ZmlsZS50eXBlIHx8ICduL2EnfSkgLSAke2ZpbGUuc2l6ZX0gYnl0ZXMsIGAgKwogICAgICAgIGBsYXN0IG1vZGlmaWVkOiAkewogICAgICAgICAgICBmaWxlLmxhc3RNb2RpZmllZERhdGUgPyBmaWxlLmxhc3RNb2RpZmllZERhdGUudG9Mb2NhbGVEYXRlU3RyaW5nKCkgOgogICAgICAgICAgICAgICAgICAgICAgICAgICAgICAgICAgICAnbi9hJ30gLSBgKSk7CiAgICBjb25zdCBwZXJjZW50ID0gc3BhbignMCUgZG9uZScpOwogICAgbGkuYXBwZW5kQ2hpbGQocGVyY2VudCk7CgogICAgb3V0cHV0RWxlbWVudC5hcHBlbmRDaGlsZChsaSk7CgogICAgY29uc3QgZmlsZURhdGFQcm9taXNlID0gbmV3IFByb21pc2UoKHJlc29sdmUpID0+IHsKICAgICAgY29uc3QgcmVhZGVyID0gbmV3IEZpbGVSZWFkZXIoKTsKICAgICAgcmVhZGVyLm9ubG9hZCA9IChlKSA9PiB7CiAgICAgICAgcmVzb2x2ZShlLnRhcmdldC5yZXN1bHQpOwogICAgICB9OwogICAgICByZWFkZXIucmVhZEFzQXJyYXlCdWZmZXIoZmlsZSk7CiAgICB9KTsKICAgIC8vIFdhaXQgZm9yIHRoZSBkYXRhIHRvIGJlIHJlYWR5LgogICAgbGV0IGZpbGVEYXRhID0geWllbGQgewogICAgICBwcm9taXNlOiBmaWxlRGF0YVByb21pc2UsCiAgICAgIHJlc3BvbnNlOiB7CiAgICAgICAgYWN0aW9uOiAnY29udGludWUnLAogICAgICB9CiAgICB9OwoKICAgIC8vIFVzZSBhIGNodW5rZWQgc2VuZGluZyB0byBhdm9pZCBtZXNzYWdlIHNpemUgbGltaXRzLiBTZWUgYi82MjExNTY2MC4KICAgIGxldCBwb3NpdGlvbiA9IDA7CiAgICB3aGlsZSAocG9zaXRpb24gPCBmaWxlRGF0YS5ieXRlTGVuZ3RoKSB7CiAgICAgIGNvbnN0IGxlbmd0aCA9IE1hdGgubWluKGZpbGVEYXRhLmJ5dGVMZW5ndGggLSBwb3NpdGlvbiwgTUFYX1BBWUxPQURfU0laRSk7CiAgICAgIGNvbnN0IGNodW5rID0gbmV3IFVpbnQ4QXJyYXkoZmlsZURhdGEsIHBvc2l0aW9uLCBsZW5ndGgpOwogICAgICBwb3NpdGlvbiArPSBsZW5ndGg7CgogICAgICBjb25zdCBiYXNlNjQgPSBidG9hKFN0cmluZy5mcm9tQ2hhckNvZGUuYXBwbHkobnVsbCwgY2h1bmspKTsKICAgICAgeWllbGQgewogICAgICAgIHJlc3BvbnNlOiB7CiAgICAgICAgICBhY3Rpb246ICdhcHBlbmQnLAogICAgICAgICAgZmlsZTogZmlsZS5uYW1lLAogICAgICAgICAgZGF0YTogYmFzZTY0LAogICAgICAgIH0sCiAgICAgIH07CiAgICAgIHBlcmNlbnQudGV4dENvbnRlbnQgPQogICAgICAgICAgYCR7TWF0aC5yb3VuZCgocG9zaXRpb24gLyBmaWxlRGF0YS5ieXRlTGVuZ3RoKSAqIDEwMCl9JSBkb25lYDsKICAgIH0KICB9CgogIC8vIEFsbCBkb25lLgogIHlpZWxkIHsKICAgIHJlc3BvbnNlOiB7CiAgICAgIGFjdGlvbjogJ2NvbXBsZXRlJywKICAgIH0KICB9Owp9CgpzY29wZS5nb29nbGUgPSBzY29wZS5nb29nbGUgfHwge307CnNjb3BlLmdvb2dsZS5jb2xhYiA9IHNjb3BlLmdvb2dsZS5jb2xhYiB8fCB7fTsKc2NvcGUuZ29vZ2xlLmNvbGFiLl9maWxlcyA9IHsKICBfdXBsb2FkRmlsZXMsCiAgX3VwbG9hZEZpbGVzQ29udGludWUsCn07Cn0pKHNlbGYpOwo=",
              "ok": true,
              "headers": [
                [
                  "content-type",
                  "application/javascript"
                ]
              ],
              "status": 200,
              "status_text": "OK"
            }
          },
          "base_uri": "https://localhost:8080/",
          "height": 168
        }
      },
      "source": [
        "from google.colab import files\n",
        "import random\n",
        "import nltk\n",
        "nltk.download('punkt')\n",
        "nltk.download('averaged_perceptron_tagger')\n",
        "from textblob import TextBlob\n",
        "uploaded = files.upload()\n",
        "for fn in uploaded.keys():\n",
        "  text = uploaded[fn].decode()\n"
      ],
      "execution_count": 0,
      "outputs": [
        {
          "output_type": "stream",
          "text": [
            "[nltk_data] Downloading package punkt to /root/nltk_data...\n",
            "[nltk_data]   Unzipping tokenizers/punkt.zip.\n",
            "[nltk_data] Downloading package averaged_perceptron_tagger to\n",
            "[nltk_data]     /root/nltk_data...\n",
            "[nltk_data]   Unzipping taggers/averaged_perceptron_tagger.zip.\n"
          ],
          "name": "stdout"
        },
        {
          "output_type": "display_data",
          "data": {
            "text/html": [
              "\n",
              "     <input type=\"file\" id=\"files-8de691f6-6d0c-4b1b-8e6e-1b7ccf787b12\" name=\"files[]\" multiple disabled />\n",
              "     <output id=\"result-8de691f6-6d0c-4b1b-8e6e-1b7ccf787b12\">\n",
              "      Upload widget is only available when the cell has been executed in the\n",
              "      current browser session. Please rerun this cell to enable.\n",
              "      </output>\n",
              "      <script src=\"/nbextensions/google.colab/files.js\"></script> "
            ],
            "text/plain": [
              "<IPython.core.display.HTML object>"
            ]
          },
          "metadata": {
            "tags": []
          }
        },
        {
          "output_type": "stream",
          "text": [
            "Saving words_tracery.txt to words_tracery.txt\n"
          ],
          "name": "stdout"
        }
      ]
    },
    {
      "cell_type": "code",
      "metadata": {
        "id": "Icyzh9kGTZvW",
        "colab_type": "code",
        "outputId": "24b14ac1-3820-4665-c2a5-601408c7344f",
        "colab": {
          "base_uri": "https://localhost:8080/",
          "height": 354
        }
      },
      "source": [
        "\n",
        "\n",
        "lyrics = TextBlob(text)\n",
        "#print(lyrics.words)\n",
        "dict_alph =lyrics.word_counts \n",
        " \t\n",
        "sorted(dict_alph.keys())\n",
        "\n",
        "\n",
        "\n",
        "proper_Noun = []\n",
        "verbs_Participle = []\n",
        "nouns = []\n",
        "Personal_Pronoun = [] \n",
        "Modal = []\n",
        "Preposition = []\n",
        "Adverb = []\n",
        "adverb_Comparative = []\n",
        "Adjective = []\n",
        "adjective_Comparative = []\n",
        "coordinating_Conjunction = []\n",
        "Whadverb = []\n",
        "Verb_Non3rd = []\n",
        "Verb = []\n",
        "possessive_Pronoun = []\n",
        "to = []\n",
        "Particle = []\n",
        "verb_Past = []\n",
        "Determiner = []\n",
        "\n",
        "for  word,pos in lyrics.tags:\n",
        "  #print (word,pos)\n",
        "  if (pos == 'DT'):\n",
        "    Determiner.append(word)\n",
        "  if (pos == 'NNP'):\n",
        "    proper_Noun.append(word)\n",
        "  if (pos =='VB'):\n",
        "    Verb.append(word)\n",
        "  if (pos == 'VBD'):\n",
        "    verb_Past.append(word)\n",
        "  if (pos == 'VBG'):\n",
        "    verbs_Participle.append(word)\n",
        "  if (pos == 'VBP'):\n",
        "    Verb_Non3rd.append(word)  \n",
        "  if (pos == 'NN'):\n",
        "    nouns.append(word)\n",
        "  if (pos == 'PRP'):\n",
        "    Personal_Pronoun.append(word)\n",
        "  if (pos == 'PRP$'):\n",
        "    possessive_Pronoun.append(word)\n",
        "  if (pos == 'MD'):\n",
        "    Modal.append(word)\n",
        "  if (pos == 'IN'):\n",
        "    Preposition.append(word) \n",
        "  if (pos == 'RB'):\n",
        "    Adverb.append(word)\n",
        "  if (pos == 'RBR'):\n",
        "    adverb_Comparative .append(word)\n",
        "  if (pos == 'JJ'):\n",
        "    Adjective.append(word)\n",
        "  if (pos == 'JJR'):\n",
        "    adjective_Comparative.append(word)\n",
        "  if (pos == 'CC'):\n",
        "    coordinating_Conjunction.append(word)\n",
        "  if (pos == 'WRB'):\n",
        "    Whadverb.append(word)\n",
        "  if (pos == 'TO'):\n",
        "    to.append(word)\n",
        "  if (pos == 'RP'):\n",
        "    Particle.append(word)\n",
        "\n",
        "\n",
        "\n",
        "\n",
        "\n",
        "#print(\"nouns :\", len(nouns))\n",
        "#print(nouns)\n",
        "my_NNP = random.choice(proper_Noun)\n",
        "my_NN = random.choice(nouns)\n",
        "my_NN2 = random.choice(nouns)\n",
        "my_VBG = random.choice(verbs_Participle)\n",
        "my_VBG2 = random.choice(verbs_Participle)\n",
        "my_PRP = random.choice(Personal_Pronoun)\n",
        "my_MD = random.choice(Modal)\n",
        "my_IN = random.choice(Preposition)\n",
        "my_RB = random.choice(Adverb)\n",
        "my_RBR = random.choice(adverb_Comparative)\n",
        "my_JJ = random.choice(Adjective)\n",
        "my_JJR = random.choice(adjective_Comparative)\n",
        "my_CC = random.choice(coordinating_Conjunction)\n",
        "my_WRB = random.choice(Whadverb)\n",
        "my_VBP = random.choice(Verb_Non3rd)\n",
        "my_VBP2 = random.choice(Verb_Non3rd)\n",
        "my_VBP3 = random.choice(Verb_Non3rd)\n",
        "my_VB = random.choice(Verb)\n",
        "my_PRPS = random.choice(possessive_Pronoun)\n",
        "my_PRP2 = random.choice(Personal_Pronoun)\n",
        "my_PRP3 = random.choice(Personal_Pronoun)\n",
        "my_TO = random.choice(to)\n",
        "my_RP = random.choice(Particle)\n",
        "my_VBD = random.choice(verb_Past)\n",
        "my_DT = random.choice(Determiner)\n",
        "\n",
        "  \n",
        "#print(my_PRP, my_VBP, my_WRB, my_JJ, my_PRP2, my_VBP2, my_VBG, my_NN)\n",
        "#print (my_PRP2, my_VBP2, my_PRP2, my_VB)\n",
        "#print (my_PRP, my_VBP3, my_PRP3, my_IN, my_PRPS, my_NN, my_PRP2, my_VBP2, my_RB)\n",
        "#print(my_WRB, my_PRP, my_VBP, my_TO, my_VB, my_RP,\",\", my_VB, my_RP)\n",
        "#print (my_PRP, my_VBD, my_IN, my_NN)\n",
        "#print (my_PRP3, my_VBD, my_IN, my_NNP)\n",
        "#print (my_IN, my_NN)\n",
        "#print (my_PRP, my_VBP, my_PRP2, my_RP)\n",
        "#print (my_VBG, my_TO, my_VB, my_DT, my_NN)\n",
        "#PRP VBP WRB JJ PRP VBP VBG NN\n",
        "#PRP VBP PRP VB\n",
        "#PRP VBP PRP IN PRP$ NN PRP VBP RB\n",
        "#WRB PRP VBP TO VB RP VB RP\n",
        "#PRP VBD IN NNP\n",
        "\n",
        "\n",
        "print(\"\\n\")\n",
        "print(\"\",lyrics.sentences[random.randint(0, len(lyrics.sentences)-1)],\"\\n\",my_PRP, my_VBP3, my_PRP3, my_IN, my_PRPS, my_NN, my_PRP2, my_VBP2, my_RB, \"\\n\", lyrics.sentences[random.randint(0, len(lyrics.sentences)-1)],\"\\n\",my_NNP, my_RB, my_VB, my_DT, my_NN2, my_RP)\n",
        "\n",
        "print(\"\\n\")\n",
        "\n",
        "print(\"\",lyrics.sentences[random.randint(0, len(lyrics.sentences)-1)], \"\\n\",my_JJ, my_NN, my_PRP, my_VBP, my_IN, my_PRP2)\n",
        "print(\"\",lyrics.sentences[random.randint(0, len(lyrics.sentences)-1)], \"\\n\", my_WRB, my_PRP, my_VBP, my_TO, my_VB, my_RP,\",\", my_VB, my_RP)\n",
        "\n",
        "print(\"\\n\")\n",
        "\n",
        "print(\"\",lyrics.sentences[random.randint(0, len(lyrics.sentences)-1)],\"\\n\",my_PRP3, my_VBD, my_IN, my_NNP, \"\\n\", lyrics.sentences[random.randint(0, len(lyrics.sentences)-1)],\"\\n\",my_PRP, my_VBP, my_PRP2, my_RP)\n",
        "\n",
        "\n",
        "\n"
      ],
      "execution_count": 93,
      "outputs": [
        {
          "output_type": "stream",
          "text": [
            "\n",
            "\n",
            " Let is be undivided. \n",
            " I have he in my Cause you am anyway \n",
            " I know that I am not perfect,. \n",
            " Do anyway break a phone off\n",
            "\n",
            "\n",
            " I can not find my charger. \n",
            " alive Cause I am in you\n",
            " I hate how much you love acting crazy. \n",
            " when I am to break off , break off\n",
            "\n",
            "\n",
            " Fill up your veins and you will still feel without. \n",
            " he fell in Do \n",
            " Hear the truth. \n",
            " I am you off\n"
          ],
          "name": "stdout"
        }
      ]
    },
    {
      "cell_type": "code",
      "metadata": {
        "id": "FeB8caV5k5Ka",
        "colab_type": "code",
        "colab": {}
      },
      "source": [
        "listofTuples = sorted(dict_alph.items() ,  key=lambda x: x[1])\n",
        "for elem in listofTuples :\n",
        "    print(elem[0] , \" ::\" , elem[1] ) "
      ],
      "execution_count": 0,
      "outputs": []
    },
    {
      "cell_type": "code",
      "metadata": {
        "id": "AsuIAbRgqKLE",
        "colab_type": "code",
        "outputId": "a346931b-e090-4ac7-ee98-77615e5bcd09",
        "colab": {
          "base_uri": "https://localhost:8080/",
          "height": 148
        }
      },
      "source": [
        "sentance = \"Na na na Na na\"\n",
        "sentance = TextBlob(sentance)\n",
        "for  word,pos in sentance.tags:\n",
        "  print (word,pos)\n",
        "\n",
        "\n",
        "\n",
        "\n",
        "\n",
        "\n",
        "\n",
        "\n",
        "\n",
        "\n"
      ],
      "execution_count": 87,
      "outputs": [
        {
          "output_type": "stream",
          "text": [
            "Na NNP\n",
            "na TO\n",
            "na VB\n",
            "Na NNP\n",
            "na NN\n",
            "hello\n",
            "gfgfh\n"
          ],
          "name": "stdout"
        }
      ]
    }
  ]
}
